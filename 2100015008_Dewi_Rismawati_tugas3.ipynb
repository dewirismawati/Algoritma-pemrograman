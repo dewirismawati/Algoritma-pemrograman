{
  "nbformat": 4,
  "nbformat_minor": 0,
  "metadata": {
    "colab": {
      "name": "2100015008_Dewi Rismawati_tugas3.ipynb",
      "provenance": []
    },
    "kernelspec": {
      "name": "python3",
      "display_name": "Python 3"
    },
    "language_info": {
      "name": "python"
    }
  },
  "cells": [
    {
      "cell_type": "code",
      "source": [
        "# Kecepatan Jika diketahui jarak dan waktu\n",
        "\n",
        "s = float(input('Jarak ='))\n",
        "t = float(input('Waktu ='))\n",
        "v = s/t \n",
        "print('Kecepatan =',v,'Km/Jam')"
      ],
      "metadata": {
        "colab": {
          "base_uri": "https://localhost:8080/"
        },
        "id": "4A74MY3VSJYS",
        "outputId": "4dc27811-867c-498d-d68d-480638b2c731"
      },
      "execution_count": 73,
      "outputs": [
        {
          "output_type": "stream",
          "name": "stdout",
          "text": [
            "Jarak =10\n",
            "Waktu =2\n",
            "Kecepatan = 5.0 Km/Jam\n"
          ]
        }
      ]
    },
    {
      "cell_type": "code",
      "execution_count": 71,
      "metadata": {
        "colab": {
          "base_uri": "https://localhost:8080/"
        },
        "id": "OL4IP4hGFuEW",
        "outputId": "7c857c10-9e50-414f-e652-4b524b2b2de8"
      },
      "outputs": [
        {
          "output_type": "stream",
          "name": "stdout",
          "text": [
            "Keliling =64\n",
            "Sisi = 16.0\n",
            "Luas Persegi = 256.0\n"
          ]
        }
      ],
      "source": [
        "# Luas Persegi diketahui Keliling\n",
        "\n",
        "keliling = float(input('Keliling ='))\n",
        "sisi = keliling/4\n",
        "luas = sisi*sisi\n",
        "print('Sisi =',sisi)\n",
        "print('Luas Persegi =',luas)"
      ]
    },
    {
      "cell_type": "code",
      "source": [
        "#Keliling Lingkaran diketahui Luas\n",
        "\n",
        "Luas = float(input('Luas= '))\n",
        "π = 22/7\n",
        "r = (Luas/π)**(1/2)\n",
        "Keliling = 2*π*r\n",
        "print('r =',r)\n",
        "print('Keliling Lingkaran =',Keliling)\n"
      ],
      "metadata": {
        "colab": {
          "base_uri": "https://localhost:8080/"
        },
        "id": "0IatdeXdJYkS",
        "outputId": "8b1a8f2e-e696-4aad-9845-e513bc7e7839"
      },
      "execution_count": 74,
      "outputs": [
        {
          "output_type": "stream",
          "name": "stdout",
          "text": [
            "Luas= 154\n",
            "r = 7.0\n",
            "Keliling Lingkaran = 44.0\n"
          ]
        }
      ]
    },
    {
      "cell_type": "code",
      "source": [
        "# sisi miring phytagoras diketahui sisi tegak\n",
        "\n",
        "a = float(input('a = '))\n",
        "b = float(input('b = '))\n",
        "c = (a**2 + b**2)**(1/2)\n",
        "print('c =',c)"
      ],
      "metadata": {
        "colab": {
          "base_uri": "https://localhost:8080/"
        },
        "id": "9FV7wT1WPwws",
        "outputId": "498be5cb-3b6e-45fa-a85a-e9a32c402b9f"
      },
      "execution_count": 76,
      "outputs": [
        {
          "output_type": "stream",
          "name": "stdout",
          "text": [
            "a = 3\n",
            "b = 4\n",
            "c = 5.0\n"
          ]
        }
      ]
    }
  ]
}